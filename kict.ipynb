{
  "nbformat": 4,
  "nbformat_minor": 0,
  "metadata": {
    "colab": {
      "provenance": [],
      "authorship_tag": "ABX9TyMDQ+nPzLZgLXlFtRAXpj8q",
      "include_colab_link": true
    },
    "kernelspec": {
      "name": "python3",
      "display_name": "Python 3"
    },
    "language_info": {
      "name": "python"
    }
  },
  "cells": [
    {
      "cell_type": "markdown",
      "metadata": {
        "id": "view-in-github",
        "colab_type": "text"
      },
      "source": [
        "<a href=\"https://colab.research.google.com/github/h-antake/silver-giggle/blob/main/kict.ipynb\" target=\"_parent\"><img src=\"https://colab.research.google.com/assets/colab-badge.svg\" alt=\"Open In Colab\"/></a>"
      ]
    },
    {
      "cell_type": "code",
      "execution_count": 1,
      "metadata": {
        "colab": {
          "base_uri": "https://localhost:8080/"
        },
        "id": "_vW5m-LaSS-5",
        "outputId": "addc13d7-8edb-4fcb-ce70-35b5648e666f"
      },
      "outputs": [
        {
          "output_type": "stream",
          "name": "stdout",
          "text": [
            "Looking in indexes: https://pypi.org/simple, https://us-python.pkg.dev/colab-wheels/public/simple/\n",
            "Collecting colorama\n",
            "  Downloading colorama-0.4.6-py2.py3-none-any.whl (25 kB)\n",
            "Installing collected packages: colorama\n",
            "Successfully installed colorama-0.4.6\n"
          ]
        }
      ],
      "source": [
        "pip install colorama"
      ]
    },
    {
      "cell_type": "code",
      "source": [
        "pip install openai"
      ],
      "metadata": {
        "colab": {
          "base_uri": "https://localhost:8080/"
        },
        "id": "FcrGszoBSnP6",
        "outputId": "bf7a21a2-0c15-4b8b-de94-4a0b9c20ef70"
      },
      "execution_count": 2,
      "outputs": [
        {
          "output_type": "stream",
          "name": "stdout",
          "text": [
            "Looking in indexes: https://pypi.org/simple, https://us-python.pkg.dev/colab-wheels/public/simple/\n",
            "Collecting openai\n",
            "  Downloading openai-0.26.2.tar.gz (55 kB)\n",
            "\u001b[2K     \u001b[90m━━━━━━━━━━━━━━━━━━━━━━━━━━━━━━━━━━━━━━━━\u001b[0m \u001b[32m55.5/55.5 KB\u001b[0m \u001b[31m2.5 MB/s\u001b[0m eta \u001b[36m0:00:00\u001b[0m\n",
            "\u001b[?25h  Installing build dependencies ... \u001b[?25l\u001b[?25hdone\n",
            "  Getting requirements to build wheel ... \u001b[?25l\u001b[?25hdone\n",
            "  Preparing metadata (pyproject.toml) ... \u001b[?25l\u001b[?25hdone\n",
            "Requirement already satisfied: requests>=2.20 in /usr/local/lib/python3.8/dist-packages (from openai) (2.25.1)\n",
            "Requirement already satisfied: aiohttp in /usr/local/lib/python3.8/dist-packages (from openai) (3.8.3)\n",
            "Requirement already satisfied: tqdm in /usr/local/lib/python3.8/dist-packages (from openai) (4.64.1)\n",
            "Requirement already satisfied: chardet<5,>=3.0.2 in /usr/local/lib/python3.8/dist-packages (from requests>=2.20->openai) (4.0.0)\n",
            "Requirement already satisfied: urllib3<1.27,>=1.21.1 in /usr/local/lib/python3.8/dist-packages (from requests>=2.20->openai) (1.24.3)\n",
            "Requirement already satisfied: certifi>=2017.4.17 in /usr/local/lib/python3.8/dist-packages (from requests>=2.20->openai) (2022.12.7)\n",
            "Requirement already satisfied: idna<3,>=2.5 in /usr/local/lib/python3.8/dist-packages (from requests>=2.20->openai) (2.10)\n",
            "Requirement already satisfied: charset-normalizer<3.0,>=2.0 in /usr/local/lib/python3.8/dist-packages (from aiohttp->openai) (2.1.1)\n",
            "Requirement already satisfied: multidict<7.0,>=4.5 in /usr/local/lib/python3.8/dist-packages (from aiohttp->openai) (6.0.4)\n",
            "Requirement already satisfied: aiosignal>=1.1.2 in /usr/local/lib/python3.8/dist-packages (from aiohttp->openai) (1.3.1)\n",
            "Requirement already satisfied: attrs>=17.3.0 in /usr/local/lib/python3.8/dist-packages (from aiohttp->openai) (22.2.0)\n",
            "Requirement already satisfied: async-timeout<5.0,>=4.0.0a3 in /usr/local/lib/python3.8/dist-packages (from aiohttp->openai) (4.0.2)\n",
            "Requirement already satisfied: yarl<2.0,>=1.0 in /usr/local/lib/python3.8/dist-packages (from aiohttp->openai) (1.8.2)\n",
            "Requirement already satisfied: frozenlist>=1.1.1 in /usr/local/lib/python3.8/dist-packages (from aiohttp->openai) (1.3.3)\n",
            "Building wheels for collected packages: openai\n",
            "  Building wheel for openai (pyproject.toml) ... \u001b[?25l\u001b[?25hdone\n",
            "  Created wheel for openai: filename=openai-0.26.2-py3-none-any.whl size=67466 sha256=d07aa70d9fe7148bb5142527485a7a66b4cb92c10d6a9ed83fd2c30d8d069a0f\n",
            "  Stored in directory: /root/.cache/pip/wheels/a4/6f/a7/a8c78bdd1fef30773cf039b0da78633b08a4e98a49d9a9f6ab\n",
            "Successfully built openai\n",
            "Installing collected packages: openai\n",
            "Successfully installed openai-0.26.2\n"
          ]
        }
      ]
    },
    {
      "cell_type": "code",
      "source": [
        "!python main.py"
      ],
      "metadata": {
        "colab": {
          "base_uri": "https://localhost:8080/"
        },
        "id": "ufYFy0urSxXN",
        "outputId": "79feb890-ba10-42f1-807a-49c58ba6ec8a"
      },
      "execution_count": 3,
      "outputs": [
        {
          "output_type": "stream",
          "name": "stdout",
          "text": [
            "\u001b[H\u001b[2J\u001b[32m\u001b[1mWhat can I get you?: \u001b[0mstudy\n",
            "\u001b[36m\u001b[1mHere you go: \u001b[22m That is outside my scope of expertise, please email kict_ddsdce@iium.edu.my for any inquiries about KICT or ask another question.\n",
            "\u001b[32m\u001b[1mWhat can I get you?: \u001b[0mbit\n",
            "\u001b[36m\u001b[1mHere you go: \u001b[22m The Bachelor of Information Technology (BIT) program offers five specializations: Digital Media Design (DMD), Information Assurance and Security (IAS), Enterprise Technology Management (ETM), Business Intelligence and Information Science (BIIS) and Digitalpreneurship (DP). Each specialization provides different job prospects and popular companies such as Google, SAP, IBM, SAS and Oracle offer jobs for these specializations.\n",
            "\u001b[32m\u001b[1mWhat can I get you?: \u001b[0msalary\n",
            "\u001b[36m\u001b[1mHere you go: \u001b[22m That is outside my scope of expertise, please email kict_ddsdce@iium.edu.my for any inquiries about KICT or ask another question.\n",
            "\u001b[32m\u001b[1mWhat can I get you?: \u001b[0mi don't like coding\n",
            "\u001b[36m\u001b[1mHere you go: \u001b[22m The Bachelor of Information Technology (BIT) program offers five specializations: Digital Media Design (DMD), Information Assurance and Security (IAS), Enterprise Technology Management (ETM), Business Intelligence and Information Science (BIIS) and Digitalpreneurship (DP). Each specialization provides different job prospects. If coding is not your interest, you may explore other specializations such as Digital Media Design (DMD), Information Assurance and Security (IAS), Enterprise Technology Management (ETM), Business Intelligence and Information Science (BIIS) and Digitalpreneurship (DP). Popular companies such as Google, SAP, IBM, SAS and Oracle offer jobs for these specializations.\n",
            "\u001b[32m\u001b[1mWhat can I get you?: \u001b[0mhello\n",
            "\u001b[36m\u001b[1mHere you go: \u001b[22m Hi there! How can I help you?\n",
            "\u001b[32m\u001b[1mWhat can I get you?: \u001b[0mwhat are the courses offered?\n",
            "\u001b[36m\u001b[1mHere you go: \u001b[22m The Bachelor of Information Technology (BIT) program offers five specializations: Digital Media Design (DMD), Information Assurance and Security (IAS), Enterprise Technology Management (ETM), Business Intelligence and Information Science (BIIS) and Digitalpreneurship (DP). The Bachelor of Computer Science (BCS) program offers three specializations: Software Engineering (SE), Data Science (DS) and Network & Security (NAS).\n",
            "\u001b[32m\u001b[1mWhat can I get you?: \u001b[0mwhat subjects\n",
            "\u001b[36m\u001b[1mHere you go: \u001b[22m For the Bachelor of Information Technology (BIT) program, the specializations and their respective core courses are as follows: \n",
            "- Digital Media Design (DMD): INFO 4320 Animation Technique, INFO 4321 Creative Design Technique, INFO 4322 Digital Content Design and INFO 4328 Game Design and Development. \n",
            "- Information Assurance and Security (IAS): INFO 4310 Network Security and Cryptography, INFO 4311 Information Security Management, INFO 4312 Computer Forensics and INFO 4313 Ethical Hacking.\n",
            "- Enterprise Technology Management (ETM): INFO 4305 Enterprise System Applications, INFO 4306 Business Process Reengineering, INFO 4307 Enterprise Resource Planning and INFO 4308 Enterprise System Integration.\n",
            "- Business Intelligence and Information Science (BIIS): INFO 4302 Data Mining, INFO 4303 Advanced Database Systems, INFO 4304 Big Data Analytics and INFO 4309 Advanced Data Visualization.\n",
            "- Digitalpreneurship (DP): INFO 4350 Digital Platform Business Model, INFO 4351 Customer Growth and Development, INFO 4352 Digital Marketing and INFO 4353 Managing Finance as a Digital Entrepreneur.\n",
            "\n",
            "For the Bachelor of Computer Science (BCS) program, the specializations and their respective core courses are as follows: \n",
            "- Software Engineering (SE): INFO 4201 Software Engineering, INFO 4202 Algorithm Design and Analysis, INFO 4203 Object-Oriented Programming and INFO 4204 Software Testing and Quality Assurance.\n",
            "- Data Science (DS): INFO 4205 Data Science and Computational Intelligence, INFO 4206 Machine Learning, INFO 4207 Deep Learning and INFO 4208 Data Visualization.\n",
            "- Network & Security (NAS): INFO 4210 Network Security, INFO 4211 Secure System Administration, INFO 4212 Network Forensics and INFO 4213 Network Intrusion Detection and Prevention.\n",
            "\u001b[32m\u001b[1mWhat can I get you?: \u001b[0mwho are you?\n",
            "\u001b[36m\u001b[1mHere you go: \u001b[22m I am an AI assistant that is an expert in KICT Specializations in KICT, IIUM. I know about all informations on the specialization that is offered in KICT, IIUM. I can provide recommendations to students to further their studies in what specialization that suits them and provide general information about the specialization.\n",
            "\u001b[32m\u001b[1mWhat can I get you?: \u001b[0mexit\n",
            "\u001b[36m\u001b[1mHere you go: \u001b[22m Goodbye!\n",
            "\u001b[32m\u001b[1mWhat can I get you?: \u001b[0mbye\n",
            "\u001b[36m\u001b[1mHere you go: \u001b[22m Goodbye!\n",
            "\u001b[32m\u001b[1mWhat can I get you?: \u001b[0mgoodbye!\n",
            "\u001b[36m\u001b[1mHere you go: \u001b[22m Goodbye!\n",
            "\u001b[32m\u001b[1mWhat can I get you?: \u001b[0msee u again\n",
            "\u001b[36m\u001b[1mHere you go: \u001b[22m Goodbye!\n",
            "\u001b[32m\u001b[1mWhat can I get you?: \u001b[0mTraceback (most recent call last):\n",
            "  File \"main.py\", line 138, in <module>\n",
            "    main()\n",
            "  File \"main.py\", line 103, in main\n",
            "    new_question = input(\n",
            "KeyboardInterrupt\n",
            "^C\n"
          ]
        }
      ]
    }
  ]
}